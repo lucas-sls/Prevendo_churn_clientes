{
 "cells": [
  {
   "cell_type": "markdown",
   "id": "cd21ce8e",
   "metadata": {},
   "source": [
    "# ANÁLISE E PREVISÃO DO CHURN DE CLIENTES EM UM BANCO"
   ]
  },
  {
   "cell_type": "markdown",
   "id": "f46aaadf",
   "metadata": {},
   "source": [
    "**POR LUCAS FONSECA MÜLLER**"
   ]
  },
  {
   "cell_type": "markdown",
   "id": "94e4969a",
   "metadata": {},
   "source": [
    "### 1. INTRODUÇÃO "
   ]
  },
  {
   "cell_type": "markdown",
   "id": "bb758e92",
   "metadata": {},
   "source": [
    "O presente estudo, inspirado no trabalho de *Keldine Malit*, intitulado *Preventing bank customer churn*, foi desenvolvido para fins didáticos, buscando a assimilação dos conceitos básicos de análise exploratória e machine learning com python. Visando a análise do dataset, que contem um portfólio de clientes de um determinado banco, objetiva-se a busca de um modelo ótimo que indique, antecipadamente, quais clientes possuem mais chances de deixar de consumir os produtos bancários, para assim definir uma melhor estratégia para a retenção dos mesmos.  "
   ]
  },
  {
   "cell_type": "markdown",
   "id": "06550cad",
   "metadata": {},
   "source": [
    "Sendo assim, essa análise contem os seguintes objetivos:\n",
    "\n",
    "<ol>\n",
    "    <li> Identificar e visualizar quais os atributos que mais influenciam na perda de clientes;</li>\n",
    "    <li> Construir um modelo preditivo que fará a análise das variáveis e definirá a probabilidade de um cliente deixar de utilizar os serviços bancários. Esse modelo auxiliará a empresa a focar os seus esforços na retenção dos clientes com maiores chances de perda.\n",
    "</ol>"
   ]
  },
  {
   "cell_type": "markdown",
   "id": "85eb1f84",
   "metadata": {},
   "source": [
    "#### 1.1. Dicionário de variáveis:"
   ]
  },
  {
   "cell_type": "markdown",
   "id": "395fc806",
   "metadata": {},
   "source": [
    "<ul>\n",
    "    <li>RowNumber: Corresponde ao número de linhas do dataset; </li>\n",
    "    <li>CustomerId: Contem valores aleatórios e únicos para identificação do cliente; </li>\n",
    "    <li>Surname: Sobrenome do Cliente; </li>\n",
    "    <li>CreditScore: Pontuação de crédito do cliente; </li>\n",
    "    <li>Geography: Localização do Cliente; </li>\n",
    "    <li>Gender: Gênero do Cliente; </li>\n",
    "    <li>Age: Idade do Cliente; </li>\n",
    "    <li>Tenure: Tempo de fidelidade do Cliente; </li>\n",
    "    <li>Balance: Saldo Bancário do Cliente; </li>\n",
    "    <li>NumofProducts:Qtde. de produtos consumidos pelo Cliente no banco; </li>\n",
    "    <li>HasCrCard: Possui cartão de crédito?; </li>\n",
    "    <li>IsActiveMember: É cliente ativo?; </li>\n",
    "    <li>EstimatedSalary: Salário estimado do Cliente; </li>\n",
    "    <li>Exited: Cliente deixou o banco?; </li>\n",
    "</ul>"
   ]
  },
  {
   "cell_type": "markdown",
   "id": "c2f5e977",
   "metadata": {},
   "source": [
    "### 2. SUMARIZAÇÃO E PREPARAÇÃO DO DATASET "
   ]
  },
  {
   "cell_type": "markdown",
   "id": "ceca3557",
   "metadata": {},
   "source": [
    "Nessa etapa, será realizada a exploração do conjunto de dados, visando:\n",
    "    \n",
    "<ol>\n",
    "    <li> A descoberta das dimensões do dataset e os seus respectivos significados;</li>\n",
    "    <li> A preparação destes dados para os processos de exploração e construção dos modelos preditivos, citados na primeira seção do projeto. </li>\n",
    "</ol>"
   ]
  },
  {
   "cell_type": "code",
   "execution_count": 1,
   "id": "706da989",
   "metadata": {},
   "outputs": [],
   "source": [
    "# Bibliotecas a serem utilizadas no dataset:\n",
    "\n",
    "# Em sua preparação:\n",
    "import numpy as np \n",
    "import pandas as pd \n",
    "\n",
    "# Em sua visualização:\n",
    "import matplotlib.pyplot as plt \n",
    "%matplotlib inline \n",
    "import seaborn as sns \n",
    "pd.options.display.max_rows = None \n",
    "pd.options.display.max_columns = None "
   ]
  },
  {
   "cell_type": "code",
   "execution_count": 2,
   "id": "d5e9e38f",
   "metadata": {},
   "outputs": [
    {
     "data": {
      "text/plain": [
       "(10000, 14)"
      ]
     },
     "execution_count": 2,
     "metadata": {},
     "output_type": "execute_result"
    }
   ],
   "source": [
    "# Lendo o conjunto de dados:\n",
    "df = pd.read_csv('https://raw.githubusercontent.com/sharmaroshan/Churn-Modelling-Dataset/master/Churn_Modelling.csv')\n",
    "df.shape"
   ]
  },
  {
   "cell_type": "markdown",
   "id": "e919e46e",
   "metadata": {},
   "source": [
    "Conforme resultado obtido acima, pode-se concluir que o conjunto de dados possui 10000 registros explicados por cerca de 14 atributos. Essa noção inicial do dimensionamento do dataset é essencial para a etapa de manipulação dos dados que será realizada antes dos objetivos principais desse estudo: a análise exploratória e a construção dos modelos de predição. "
   ]
  },
  {
   "cell_type": "code",
   "execution_count": 3,
   "id": "555433cc",
   "metadata": {
    "scrolled": true
   },
   "outputs": [
    {
     "data": {
      "text/plain": [
       "RowNumber          0\n",
       "CustomerId         0\n",
       "Surname            0\n",
       "CreditScore        0\n",
       "Geography          0\n",
       "Gender             0\n",
       "Age                0\n",
       "Tenure             0\n",
       "Balance            0\n",
       "NumOfProducts      0\n",
       "HasCrCard          0\n",
       "IsActiveMember     0\n",
       "EstimatedSalary    0\n",
       "Exited             0\n",
       "dtype: int64"
      ]
     },
     "execution_count": 3,
     "metadata": {},
     "output_type": "execute_result"
    }
   ],
   "source": [
    "# Listando as features do dataset e os valores faltantes\n",
    "df.isnull().sum()"
   ]
  },
  {
   "cell_type": "markdown",
   "id": "ee06617f",
   "metadata": {},
   "source": [
    "Verificando as colunas do conjunto de dados, pode-se afirmar que não há valores faltantes."
   ]
  },
  {
   "cell_type": "code",
   "execution_count": 4,
   "id": "ee46bbb6",
   "metadata": {},
   "outputs": [
    {
     "data": {
      "text/plain": [
       "RowNumber          10000\n",
       "CustomerId         10000\n",
       "Surname             2932\n",
       "CreditScore          460\n",
       "Geography              3\n",
       "Gender                 2\n",
       "Age                   70\n",
       "Tenure                11\n",
       "Balance             6382\n",
       "NumOfProducts          4\n",
       "HasCrCard              2\n",
       "IsActiveMember         2\n",
       "EstimatedSalary     9999\n",
       "Exited                 2\n",
       "dtype: int64"
      ]
     },
     "execution_count": 4,
     "metadata": {},
     "output_type": "execute_result"
    }
   ],
   "source": [
    "# Contagem de valores distintos para cada variável\n",
    "df.nunique()"
   ]
  },
  {
   "cell_type": "markdown",
   "id": "1c0a8aa7",
   "metadata": {},
   "source": [
    "Conforme a relação acima, percebe-se que as variáveis *Rownumber* e *CustomerId* são atributos particulares de clientes e não influenciam no restante das variáveis. Ao encontro dessa lógica, pode-se citar também a variável *Surname*, sendo essas três variáveis descartáveis para a análise."
   ]
  },
  {
   "cell_type": "code",
   "execution_count": 5,
   "id": "19f96c7a",
   "metadata": {},
   "outputs": [
    {
     "data": {
      "text/html": [
       "<div>\n",
       "<style scoped>\n",
       "    .dataframe tbody tr th:only-of-type {\n",
       "        vertical-align: middle;\n",
       "    }\n",
       "\n",
       "    .dataframe tbody tr th {\n",
       "        vertical-align: top;\n",
       "    }\n",
       "\n",
       "    .dataframe thead th {\n",
       "        text-align: right;\n",
       "    }\n",
       "</style>\n",
       "<table border=\"1\" class=\"dataframe\">\n",
       "  <thead>\n",
       "    <tr style=\"text-align: right;\">\n",
       "      <th></th>\n",
       "      <th>CreditScore</th>\n",
       "      <th>Geography</th>\n",
       "      <th>Gender</th>\n",
       "      <th>Age</th>\n",
       "      <th>Tenure</th>\n",
       "      <th>Balance</th>\n",
       "      <th>NumOfProducts</th>\n",
       "      <th>HasCrCard</th>\n",
       "      <th>IsActiveMember</th>\n",
       "      <th>EstimatedSalary</th>\n",
       "      <th>Exited</th>\n",
       "    </tr>\n",
       "  </thead>\n",
       "  <tbody>\n",
       "    <tr>\n",
       "      <th>0</th>\n",
       "      <td>619</td>\n",
       "      <td>France</td>\n",
       "      <td>Female</td>\n",
       "      <td>42</td>\n",
       "      <td>2</td>\n",
       "      <td>0.00</td>\n",
       "      <td>1</td>\n",
       "      <td>1</td>\n",
       "      <td>1</td>\n",
       "      <td>101348.88</td>\n",
       "      <td>1</td>\n",
       "    </tr>\n",
       "    <tr>\n",
       "      <th>1</th>\n",
       "      <td>608</td>\n",
       "      <td>Spain</td>\n",
       "      <td>Female</td>\n",
       "      <td>41</td>\n",
       "      <td>1</td>\n",
       "      <td>83807.86</td>\n",
       "      <td>1</td>\n",
       "      <td>0</td>\n",
       "      <td>1</td>\n",
       "      <td>112542.58</td>\n",
       "      <td>0</td>\n",
       "    </tr>\n",
       "    <tr>\n",
       "      <th>2</th>\n",
       "      <td>502</td>\n",
       "      <td>France</td>\n",
       "      <td>Female</td>\n",
       "      <td>42</td>\n",
       "      <td>8</td>\n",
       "      <td>159660.80</td>\n",
       "      <td>3</td>\n",
       "      <td>1</td>\n",
       "      <td>0</td>\n",
       "      <td>113931.57</td>\n",
       "      <td>1</td>\n",
       "    </tr>\n",
       "    <tr>\n",
       "      <th>3</th>\n",
       "      <td>699</td>\n",
       "      <td>France</td>\n",
       "      <td>Female</td>\n",
       "      <td>39</td>\n",
       "      <td>1</td>\n",
       "      <td>0.00</td>\n",
       "      <td>2</td>\n",
       "      <td>0</td>\n",
       "      <td>0</td>\n",
       "      <td>93826.63</td>\n",
       "      <td>0</td>\n",
       "    </tr>\n",
       "    <tr>\n",
       "      <th>4</th>\n",
       "      <td>850</td>\n",
       "      <td>Spain</td>\n",
       "      <td>Female</td>\n",
       "      <td>43</td>\n",
       "      <td>2</td>\n",
       "      <td>125510.82</td>\n",
       "      <td>1</td>\n",
       "      <td>1</td>\n",
       "      <td>1</td>\n",
       "      <td>79084.10</td>\n",
       "      <td>0</td>\n",
       "    </tr>\n",
       "  </tbody>\n",
       "</table>\n",
       "</div>"
      ],
      "text/plain": [
       "   CreditScore Geography  Gender  Age  Tenure    Balance  NumOfProducts  \\\n",
       "0          619    France  Female   42       2       0.00              1   \n",
       "1          608     Spain  Female   41       1   83807.86              1   \n",
       "2          502    France  Female   42       8  159660.80              3   \n",
       "3          699    France  Female   39       1       0.00              2   \n",
       "4          850     Spain  Female   43       2  125510.82              1   \n",
       "\n",
       "   HasCrCard  IsActiveMember  EstimatedSalary  Exited  \n",
       "0          1               1        101348.88       1  \n",
       "1          0               1        112542.58       0  \n",
       "2          1               0        113931.57       1  \n",
       "3          0               0         93826.63       0  \n",
       "4          1               1         79084.10       0  "
      ]
     },
     "execution_count": 5,
     "metadata": {},
     "output_type": "execute_result"
    }
   ],
   "source": [
    "# Apagando colunas descitas acima:\n",
    "df = df.drop([\"RowNumber\", \"CustomerId\", \"Surname\"], axis= 1)\n",
    "\n",
    "# Verificando as primeiras linhas do dataset após a exclusão:\n",
    "df.head()\n"
   ]
  },
  {
   "cell_type": "markdown",
   "id": "d179c1de",
   "metadata": {},
   "source": [
    "Uma vez feitas as modificações, podemos debater algumas questões que ficaram vagas:\n",
    "\n",
    "<ol>\n",
    "    <li>Os dados aparentam ser uma fotografia de algum ponto no tempo, como podemos perceber pelo saldo demonstrado para uma determinada data não citada. Sendo assim, podemos fazer alguns questionamentos, como: Que data seria essa e qual seria a sua importância na análise e construção do modelo de previsão? Seria possível obter saldos de outras datas, para termos um parâmetro de comparação?</li>\n",
    "    <li>Ainda existem clientes que possuem saldo no banco, mesmo após a sua saída. Qual o significado disso? Será que realmente eles deixaram o banco, ou apenas pararam de consumir determinado produto que lhe foi oferecido pela instituição?</li>\n",
    "    <li>O que realmente significa ser um membro ativo? Existem diferentes níveis para se mensurar essa variável? Será que não seria melhor a realização desse nivelamento por meio da quantidade de operações de créditos e débitos em conta?</li>\n",
    "    <li>Além da quantidade de produtos bancários utilizados por cada cliente, um detalhamento dos mesmos seria de grande valia para a construção de um modelo de predição.</li>\n",
    "</ol>"
   ]
  },
  {
   "cell_type": "markdown",
   "id": "ae0de6f5",
   "metadata": {},
   "source": [
    "Dentro do contexto analisado e com os dados disponíveis, ainda é possível a análise do dataset, assim como a construção de modelos preditivos. No entanto, teremos um menor número de insights e uma potencial diminuição na eficácia de nosso modelo, uma vez que há lacunas que faltam ser explicadas."
   ]
  },
  {
   "cell_type": "code",
   "execution_count": 6,
   "id": "abd7d88b",
   "metadata": {
    "scrolled": true
   },
   "outputs": [
    {
     "data": {
      "text/plain": [
       "CreditScore          int64\n",
       "Geography           object\n",
       "Gender              object\n",
       "Age                  int64\n",
       "Tenure               int64\n",
       "Balance            float64\n",
       "NumOfProducts        int64\n",
       "HasCrCard            int64\n",
       "IsActiveMember       int64\n",
       "EstimatedSalary    float64\n",
       "Exited               int64\n",
       "dtype: object"
      ]
     },
     "execution_count": 6,
     "metadata": {},
     "output_type": "execute_result"
    }
   ],
   "source": [
    "df.dtypes"
   ]
  },
  {
   "cell_type": "markdown",
   "id": "27288bdd",
   "metadata": {},
   "source": [
    "Observando os tipos de variáveis presentes em nosso dataset original, percebemos que 7 das 11 totais são do tipo inteiro. Além dos inteiros, temos 2 strings e 2 do tipo float (com casas decimais)."
   ]
  },
  {
   "cell_type": "markdown",
   "id": "5a8c304f",
   "metadata": {},
   "source": [
    "### 3. ANÁLISE EXPLORATÓRIA DOS DADOS"
   ]
  },
  {
   "cell_type": "markdown",
   "id": "810115f7",
   "metadata": {},
   "source": [
    "Dentro dessa seção, buscaremos um compreensão geral do comportamento dos dados, assim como a mensuração da relação de todas as variáveis com a nossa variável-alvo para a resolução do problema de pesquisa (*Exited*)."
   ]
  },
  {
   "cell_type": "code",
   "execution_count": 7,
   "id": "ad436e9e",
   "metadata": {
    "scrolled": true
   },
   "outputs": [
    {
     "data": {
      "image/png": "[encoded data removed]",
      "text/plain": [
       "<Figure size 720x360 with 1 Axes>"
      ]
     },
     "metadata": {},
     "output_type": "display_data"
    }
   ],
   "source": [
    "legendas = 'Perdas', 'Retidos'\n",
    "frame = [df.Exited[df['Exited'] == 1].count(), df.Exited[df['Exited']==0].count()]\n",
    "explode = (0, 0.1)\n",
    "fig1, ax1 = plt.subplots(figsize=(10, 5))\n",
    "ax1.pie(frame, explode=explode, labels=legendas, autopct='%1.2f%%',\n",
    "        shadow=True, startangle=90, colors=['red','gray'])\n",
    "ax1.axis('equal')\n",
    "plt.title(\"Clientes retidos x perdas\", size = 20)\n",
    "plt.show()"
   ]
  },
  {
   "cell_type": "markdown",
   "id": "4cc30498",
   "metadata": {},
   "source": [
    "Sendo assim, percebemos que aproximadamente 1 a cada 5 clientes deixam de consumir os produtos da instituição bancária. Nesse sentido, objetiva-se a busca de um modelo de machine learning que preveja com máxima precisão esses 20%, uma vez que esse número é pequeno, e a proposta do banco é focar justamente na retenção desse grupo, e não na previsão da quantidade de clientes ativos."
   ]
  },
  {
   "cell_type": "code",
   "execution_count": 8,
   "id": "7dc74878",
   "metadata": {},
   "outputs": [
    {
     "data": {
      "text/plain": [
       "<AxesSubplot:xlabel='IsActiveMember', ylabel='count'>"
      ]
     },
     "execution_count": 8,
     "metadata": {},
     "output_type": "execute_result"
    },
    {
     "data": {
      "image/png": "[encoded data removed]",
      "text/plain": [
       "<Figure size 1440x720 with 4 Axes>"
      ]
     },
     "metadata": {
      "needs_background": "light"
     },
     "output_type": "display_data"
    }
   ],
   "source": [
    "# O próximo passo é revisarmos a relação da variável 'Status' com as demais variáveis categóricas\n",
    "\n",
    "fig , axarr = plt.subplots(2, 2, figsize=(20, 10))\n",
    "palette = 'Set2' \n",
    "sns.countplot(x='Geography', hue = 'Exited',data = df, ax=axarr[0][0], palette=palette)\n",
    "sns.countplot(x='Gender', hue = 'Exited',data = df, ax=axarr[0][1], palette=palette)\n",
    "sns.countplot(x='HasCrCard', hue = 'Exited',data = df, ax=axarr[1][0], palette=palette)\n",
    "sns.countplot(x='IsActiveMember', hue = 'Exited',data = df, ax=axarr[1][1], palette=palette)"
   ]
  },
  {
   "cell_type": "markdown",
   "id": "d81bdbff",
   "metadata": {},
   "source": [
    "Observando os gáficos de barras, podemos inferir que:\n",
    "\n",
    "* Nos países onde o banco possui um menor número de clientes, há uma maior taxa de Churn. É um fato a ser destacado, pois provavelmente temos aí um acúmulo de atenção em seus maiores polos, consequentemente havendo uma certa desatenção com as áreas de menor clientela. Um dos motivos poderia ser o alto custo atrelado ao baixo poder de investimento nessa cadeia logística;\n",
    "\n",
    "* Há um maior percentual de evasão do público feminino, em relação ao masculino;\n",
    "\n",
    "* Existe um maior churn entre os clientes que utilizam cartão de crédito em relação aos que não utilizam. Como temos um maior público que utiliza este produto bancário, tal fato tende a ser apenas uma coincidência;\n",
    "\n",
    "* Sem maiores surpresas, vemos que as evasões de clientes concentram-se mais entre os membros inativos. No entanto, algo que surpreende é a alta taxa de membros inativos em relaçao ao portfólio de clientes. Nesse caso, uma sugestão à instituição é a adoção de um programa para tornar esses clientes ativos, e assim, consequentemente, otimizar o desempenho da empresa.\n"
   ]
  },
  {
   "cell_type": "code",
   "execution_count": 9,
   "id": "d2d22e98",
   "metadata": {},
   "outputs": [
    {
     "data": {
      "text/plain": [
       "<AxesSubplot:xlabel='Exited', ylabel='EstimatedSalary'>"
      ]
     },
     "execution_count": 9,
     "metadata": {},
     "output_type": "execute_result"
    },
    {
     "data": {
      "image/png": "[encoded data removed]",
      "text/plain": [
       "<Figure size 1440x864 with 6 Axes>"
      ]
     },
     "metadata": {
      "needs_background": "light"
     },
     "output_type": "display_data"
    }
   ],
   "source": [
    "fig, axarr = plt.subplots(3, 2, figsize=(20, 12))\n",
    "palette = 'Set2'\n",
    "sns.boxplot(y='CreditScore',x = 'Exited', hue = 'Exited',data = df, ax=axarr[0][0], palette=palette)\n",
    "sns.boxplot(y='Age',x = 'Exited', hue = 'Exited',data = df , ax=axarr[0][1], palette=palette)\n",
    "sns.boxplot(y='Tenure',x = 'Exited', hue = 'Exited',data = df, ax=axarr[1][0], palette=palette)\n",
    "sns.boxplot(y='Balance',x = 'Exited', hue = 'Exited',data = df, ax=axarr[1][1], palette=palette)\n",
    "sns.boxplot(y='NumOfProducts',x = 'Exited', hue = 'Exited',data = df, ax=axarr[2][0], palette=palette)\n",
    "sns.boxplot(y='EstimatedSalary',x = 'Exited', hue = 'Exited',data = df, ax=axarr[2][1], palette=palette)"
   ]
  },
  {
   "cell_type": "markdown",
   "id": "3773a4be",
   "metadata": {},
   "source": [
    "Observando os boxplots acima, podemos inferir que:\n",
    "\n",
    "* Não há uma diferença expressiva entre os scores de crédito dos clientes que permaneceram em relação aos clientes que evadiram;\n",
    "\n",
    "* Os clientes mais velhos estão evadindo em maior quantidade, em relação aos mais jovens, aludindo a uma certa diferença na preferência de atendimento. Vale a atenção da instituição na adoção de uma estratégia de retenção visando essa questão das idades, ou até mesmo a revisão de seu mercado-alvo;\n",
    "\n",
    "* Clientes que possuem pouco tempo de instituição, ou muito tempo de instituição (extremos) são mais propensos a churn do que aqueles que estão próximos a média geral de Ternure;\n",
    "\n",
    "* Um fator preocupante é a expressiva perda de clientes com altos montantes. Isso faz com que a instituição tenha menor poderio na concessão de empréstimos;\n",
    "\n",
    "* A quantidade de produtos, assim como o salário estimado de cada cliente, não possuem relação com a probabilidade de churn.\n"
   ]
  },
  {
   "cell_type": "markdown",
   "id": "65057e7b",
   "metadata": {},
   "source": [
    "### 4. FEATURE ENGINEERING"
   ]
  },
  {
   "cell_type": "markdown",
   "id": "eb69dc21",
   "metadata": {},
   "source": [
    "Nessa etapa, vamos procurar algumas características principais que possam ter impacto significativo no aumento da probabilidade de churning. Primeiramente, vamos distribuir nosso dataset em dois conjuntos principais: um para treino e outro para teste."
   ]
  },
  {
   "cell_type": "code",
   "execution_count": 10,
   "id": "163da0f1",
   "metadata": {},
   "outputs": [
    {
     "name": "stdout",
     "output_type": "stream",
     "text": [
      "Total de amostras do conjunto de treino: 8000\n",
      "Total de amostras do conjunto de testes: 2000\n"
     ]
    }
   ],
   "source": [
    "# Separar conjunto de treino e de teste\n",
    "df_treino = df.sample(frac=0.8,random_state=200)\n",
    "df_teste = df.drop(df_treino.index)\n",
    "print('Total de amostras do conjunto de treino: {}'.format(len(df_treino)))\n",
    "print('Total de amostras do conjunto de testes: {}'.format(len(df_teste)))"
   ]
  },
  {
   "cell_type": "code",
   "execution_count": 11,
   "id": "375c3f73",
   "metadata": {},
   "outputs": [
    {
     "data": {
      "text/plain": [
       "(-1.0, 5.0)"
      ]
     },
     "execution_count": 11,
     "metadata": {},
     "output_type": "execute_result"
    },
    {
     "data": {
      "image/png": "[encoded data removed]",
      "text/plain": [
       "<Figure size 432x288 with 1 Axes>"
      ]
     },
     "metadata": {
      "needs_background": "light"
     },
     "output_type": "display_data"
    }
   ],
   "source": [
    "df_treino['PercSalarioSaldo'] = df_treino.Balance/df_treino.EstimatedSalary\n",
    "sns.boxplot(y='PercSalarioSaldo',x = 'Exited', hue = 'Exited',data = df_treino, palette='Set2')\n",
    "plt.ylim(-1, 5)"
   ]
  },
  {
   "cell_type": "markdown",
   "id": "538a72e3",
   "metadata": {},
   "source": [
    "Podemos perceber, conforme o boxplot acima, que a relação entre saldo bancário e salário nos mostra que há um valor superior quando observamos os clientes com evasão, provando mais uma vez que tal fato é sinal de alerta para a diminuição da fonte de empréstimos da instituição bancária, diminuindo assim a sua performance.  "
   ]
  },
  {
   "cell_type": "code",
   "execution_count": 12,
   "id": "eb79ce5b",
   "metadata": {},
   "outputs": [
    {
     "data": {
      "image/png": "[encoded data removed]",
      "text/plain": [
       "<Figure size 432x288 with 1 Axes>"
      ]
     },
     "metadata": {
      "needs_background": "light"
     },
     "output_type": "display_data"
    }
   ],
   "source": [
    "# Dada um determinado nível de fidelidade, buscamos colocá-lo em razão da idade dos clientes para buscar insights\n",
    "df_treino['FidelidadePorIdade'] = df_treino.Tenure/(df_treino.Age)\n",
    "sns.boxplot(y='FidelidadePorIdade',x = 'Exited', hue = 'Exited',data = df_treino, palette='Set2')\n",
    "plt.ylim(-1, 1)\n",
    "plt.show()"
   ]
  },
  {
   "cell_type": "markdown",
   "id": "3f1184ac",
   "metadata": {},
   "source": [
    "E por último, mas não menos importante, vamos tentar mensurar qual o impacto da pontuação de crédito conforme a variação da idade, visando a análise do comportamento de consumo por faixa etária."
   ]
  },
  {
   "cell_type": "code",
   "execution_count": 13,
   "id": "798e31f5",
   "metadata": {},
   "outputs": [
    {
     "data": {
      "text/html": [
       "<div>\n",
       "<style scoped>\n",
       "    .dataframe tbody tr th:only-of-type {\n",
       "        vertical-align: middle;\n",
       "    }\n",
       "\n",
       "    .dataframe tbody tr th {\n",
       "        vertical-align: top;\n",
       "    }\n",
       "\n",
       "    .dataframe thead th {\n",
       "        text-align: right;\n",
       "    }\n",
       "</style>\n",
       "<table border=\"1\" class=\"dataframe\">\n",
       "  <thead>\n",
       "    <tr style=\"text-align: right;\">\n",
       "      <th></th>\n",
       "      <th>CreditScore</th>\n",
       "      <th>Geography</th>\n",
       "      <th>Gender</th>\n",
       "      <th>Age</th>\n",
       "      <th>Tenure</th>\n",
       "      <th>Balance</th>\n",
       "      <th>NumOfProducts</th>\n",
       "      <th>HasCrCard</th>\n",
       "      <th>IsActiveMember</th>\n",
       "      <th>EstimatedSalary</th>\n",
       "      <th>Exited</th>\n",
       "      <th>PercSalarioSaldo</th>\n",
       "      <th>FidelidadePorIdade</th>\n",
       "      <th>ScorePorIdade</th>\n",
       "    </tr>\n",
       "  </thead>\n",
       "  <tbody>\n",
       "    <tr>\n",
       "      <th>8159</th>\n",
       "      <td>461</td>\n",
       "      <td>Spain</td>\n",
       "      <td>Female</td>\n",
       "      <td>25</td>\n",
       "      <td>6</td>\n",
       "      <td>0.00</td>\n",
       "      <td>2</td>\n",
       "      <td>1</td>\n",
       "      <td>1</td>\n",
       "      <td>15306.29</td>\n",
       "      <td>0</td>\n",
       "      <td>0.000000</td>\n",
       "      <td>0.240000</td>\n",
       "      <td>18.440000</td>\n",
       "    </tr>\n",
       "    <tr>\n",
       "      <th>6332</th>\n",
       "      <td>619</td>\n",
       "      <td>France</td>\n",
       "      <td>Female</td>\n",
       "      <td>35</td>\n",
       "      <td>4</td>\n",
       "      <td>90413.12</td>\n",
       "      <td>1</td>\n",
       "      <td>1</td>\n",
       "      <td>1</td>\n",
       "      <td>20555.21</td>\n",
       "      <td>0</td>\n",
       "      <td>4.398550</td>\n",
       "      <td>0.114286</td>\n",
       "      <td>17.685714</td>\n",
       "    </tr>\n",
       "    <tr>\n",
       "      <th>8895</th>\n",
       "      <td>699</td>\n",
       "      <td>France</td>\n",
       "      <td>Female</td>\n",
       "      <td>40</td>\n",
       "      <td>8</td>\n",
       "      <td>122038.34</td>\n",
       "      <td>1</td>\n",
       "      <td>1</td>\n",
       "      <td>0</td>\n",
       "      <td>102085.35</td>\n",
       "      <td>0</td>\n",
       "      <td>1.195454</td>\n",
       "      <td>0.200000</td>\n",
       "      <td>17.475000</td>\n",
       "    </tr>\n",
       "    <tr>\n",
       "      <th>5351</th>\n",
       "      <td>558</td>\n",
       "      <td>Germany</td>\n",
       "      <td>Male</td>\n",
       "      <td>41</td>\n",
       "      <td>2</td>\n",
       "      <td>124227.14</td>\n",
       "      <td>1</td>\n",
       "      <td>1</td>\n",
       "      <td>1</td>\n",
       "      <td>111184.67</td>\n",
       "      <td>0</td>\n",
       "      <td>1.117305</td>\n",
       "      <td>0.048780</td>\n",
       "      <td>13.609756</td>\n",
       "    </tr>\n",
       "    <tr>\n",
       "      <th>4314</th>\n",
       "      <td>638</td>\n",
       "      <td>France</td>\n",
       "      <td>Male</td>\n",
       "      <td>34</td>\n",
       "      <td>5</td>\n",
       "      <td>133501.36</td>\n",
       "      <td>1</td>\n",
       "      <td>0</td>\n",
       "      <td>1</td>\n",
       "      <td>155643.04</td>\n",
       "      <td>0</td>\n",
       "      <td>0.857741</td>\n",
       "      <td>0.147059</td>\n",
       "      <td>18.764706</td>\n",
       "    </tr>\n",
       "  </tbody>\n",
       "</table>\n",
       "</div>"
      ],
      "text/plain": [
       "      CreditScore Geography  Gender  Age  Tenure    Balance  NumOfProducts  \\\n",
       "8159          461     Spain  Female   25       6       0.00              2   \n",
       "6332          619    France  Female   35       4   90413.12              1   \n",
       "8895          699    France  Female   40       8  122038.34              1   \n",
       "5351          558   Germany    Male   41       2  124227.14              1   \n",
       "4314          638    France    Male   34       5  133501.36              1   \n",
       "\n",
       "      HasCrCard  IsActiveMember  EstimatedSalary  Exited  PercSalarioSaldo  \\\n",
       "8159          1               1         15306.29       0          0.000000   \n",
       "6332          1               1         20555.21       0          4.398550   \n",
       "8895          1               0        102085.35       0          1.195454   \n",
       "5351          1               1        111184.67       0          1.117305   \n",
       "4314          0               1        155643.04       0          0.857741   \n",
       "\n",
       "      FidelidadePorIdade  ScorePorIdade  \n",
       "8159            0.240000      18.440000  \n",
       "6332            0.114286      17.685714  \n",
       "8895            0.200000      17.475000  \n",
       "5351            0.048780      13.609756  \n",
       "4314            0.147059      18.764706  "
      ]
     },
     "execution_count": 13,
     "metadata": {},
     "output_type": "execute_result"
    }
   ],
   "source": [
    "df_treino['ScorePorIdade'] = df_treino.CreditScore/(df_treino.Age)\n",
    "df_treino.head()"
   ]
  },
  {
   "cell_type": "markdown",
   "id": "adc6d7bc",
   "metadata": {},
   "source": [
    "### 5. PREPARAÇÃO DOS DADOS E AJUSTE DOS MODELOS"
   ]
  },
  {
   "cell_type": "code",
   "execution_count": 14,
   "id": "0ca1a63d",
   "metadata": {},
   "outputs": [
    {
     "data": {
      "text/html": [
       "<div>\n",
       "<style scoped>\n",
       "    .dataframe tbody tr th:only-of-type {\n",
       "        vertical-align: middle;\n",
       "    }\n",
       "\n",
       "    .dataframe tbody tr th {\n",
       "        vertical-align: top;\n",
       "    }\n",
       "\n",
       "    .dataframe thead th {\n",
       "        text-align: right;\n",
       "    }\n",
       "</style>\n",
       "<table border=\"1\" class=\"dataframe\">\n",
       "  <thead>\n",
       "    <tr style=\"text-align: right;\">\n",
       "      <th></th>\n",
       "      <th>Exited</th>\n",
       "      <th>CreditScore</th>\n",
       "      <th>Age</th>\n",
       "      <th>Tenure</th>\n",
       "      <th>Balance</th>\n",
       "      <th>NumOfProducts</th>\n",
       "      <th>EstimatedSalary</th>\n",
       "      <th>PercSalarioSaldo</th>\n",
       "      <th>FidelidadePorIdade</th>\n",
       "      <th>ScorePorIdade</th>\n",
       "      <th>HasCrCard</th>\n",
       "      <th>IsActiveMember</th>\n",
       "      <th>Geography</th>\n",
       "      <th>Gender</th>\n",
       "    </tr>\n",
       "  </thead>\n",
       "  <tbody>\n",
       "    <tr>\n",
       "      <th>8159</th>\n",
       "      <td>0</td>\n",
       "      <td>461</td>\n",
       "      <td>25</td>\n",
       "      <td>6</td>\n",
       "      <td>0.00</td>\n",
       "      <td>2</td>\n",
       "      <td>15306.29</td>\n",
       "      <td>0.000000</td>\n",
       "      <td>0.240000</td>\n",
       "      <td>18.440000</td>\n",
       "      <td>1</td>\n",
       "      <td>1</td>\n",
       "      <td>Spain</td>\n",
       "      <td>Female</td>\n",
       "    </tr>\n",
       "    <tr>\n",
       "      <th>6332</th>\n",
       "      <td>0</td>\n",
       "      <td>619</td>\n",
       "      <td>35</td>\n",
       "      <td>4</td>\n",
       "      <td>90413.12</td>\n",
       "      <td>1</td>\n",
       "      <td>20555.21</td>\n",
       "      <td>4.398550</td>\n",
       "      <td>0.114286</td>\n",
       "      <td>17.685714</td>\n",
       "      <td>1</td>\n",
       "      <td>1</td>\n",
       "      <td>France</td>\n",
       "      <td>Female</td>\n",
       "    </tr>\n",
       "    <tr>\n",
       "      <th>8895</th>\n",
       "      <td>0</td>\n",
       "      <td>699</td>\n",
       "      <td>40</td>\n",
       "      <td>8</td>\n",
       "      <td>122038.34</td>\n",
       "      <td>1</td>\n",
       "      <td>102085.35</td>\n",
       "      <td>1.195454</td>\n",
       "      <td>0.200000</td>\n",
       "      <td>17.475000</td>\n",
       "      <td>1</td>\n",
       "      <td>0</td>\n",
       "      <td>France</td>\n",
       "      <td>Female</td>\n",
       "    </tr>\n",
       "    <tr>\n",
       "      <th>5351</th>\n",
       "      <td>0</td>\n",
       "      <td>558</td>\n",
       "      <td>41</td>\n",
       "      <td>2</td>\n",
       "      <td>124227.14</td>\n",
       "      <td>1</td>\n",
       "      <td>111184.67</td>\n",
       "      <td>1.117305</td>\n",
       "      <td>0.048780</td>\n",
       "      <td>13.609756</td>\n",
       "      <td>1</td>\n",
       "      <td>1</td>\n",
       "      <td>Germany</td>\n",
       "      <td>Male</td>\n",
       "    </tr>\n",
       "    <tr>\n",
       "      <th>4314</th>\n",
       "      <td>0</td>\n",
       "      <td>638</td>\n",
       "      <td>34</td>\n",
       "      <td>5</td>\n",
       "      <td>133501.36</td>\n",
       "      <td>1</td>\n",
       "      <td>155643.04</td>\n",
       "      <td>0.857741</td>\n",
       "      <td>0.147059</td>\n",
       "      <td>18.764706</td>\n",
       "      <td>0</td>\n",
       "      <td>1</td>\n",
       "      <td>France</td>\n",
       "      <td>Male</td>\n",
       "    </tr>\n",
       "  </tbody>\n",
       "</table>\n",
       "</div>"
      ],
      "text/plain": [
       "      Exited  CreditScore  Age  Tenure    Balance  NumOfProducts  \\\n",
       "8159       0          461   25       6       0.00              2   \n",
       "6332       0          619   35       4   90413.12              1   \n",
       "8895       0          699   40       8  122038.34              1   \n",
       "5351       0          558   41       2  124227.14              1   \n",
       "4314       0          638   34       5  133501.36              1   \n",
       "\n",
       "      EstimatedSalary  PercSalarioSaldo  FidelidadePorIdade  ScorePorIdade  \\\n",
       "8159         15306.29          0.000000            0.240000      18.440000   \n",
       "6332         20555.21          4.398550            0.114286      17.685714   \n",
       "8895        102085.35          1.195454            0.200000      17.475000   \n",
       "5351        111184.67          1.117305            0.048780      13.609756   \n",
       "4314        155643.04          0.857741            0.147059      18.764706   \n",
       "\n",
       "      HasCrCard  IsActiveMember Geography  Gender  \n",
       "8159          1               1     Spain  Female  \n",
       "6332          1               1    France  Female  \n",
       "8895          1               0    France  Female  \n",
       "5351          1               1   Germany    Male  \n",
       "4314          0               1    France    Male  "
      ]
     },
     "execution_count": 14,
     "metadata": {},
     "output_type": "execute_result"
    }
   ],
   "source": [
    "# Organizando colunas por tipos de dados, visando uma fácil manipulação.\n",
    "var_continuas = ['CreditScore',  'Age', 'Tenure', 'Balance','NumOfProducts', 'EstimatedSalary', 'PercSalarioSaldo',\n",
    "                 'FidelidadePorIdade','ScorePorIdade']\n",
    "var_categoricas = ['HasCrCard', 'IsActiveMember','Geography', 'Gender']\n",
    "df_treino = df_treino[['Exited'] + var_continuas + var_categoricas]\n",
    "df_treino.head()"
   ]
  },
  {
   "cell_type": "markdown",
   "id": "964e1f6e",
   "metadata": {},
   "source": [
    "Após a realização da separação das variáveis por *data type*, vamos focar nas variáveis binárias (*HasCrCard* e *IsActiveMember*). Com o intuito de destacar sua correlação negativa para o modelo, entre o fato de possuir cartão de crédito ou não, assim como se o cliente é membro ativo ou não, vamos substituir o 0 por -1."
   ]
  },
  {
   "cell_type": "code",
   "execution_count": 15,
   "id": "8fa2149b",
   "metadata": {
    "scrolled": true
   },
   "outputs": [
    {
     "data": {
      "text/html": [
       "<div>\n",
       "<style scoped>\n",
       "    .dataframe tbody tr th:only-of-type {\n",
       "        vertical-align: middle;\n",
       "    }\n",
       "\n",
       "    .dataframe tbody tr th {\n",
       "        vertical-align: top;\n",
       "    }\n",
       "\n",
       "    .dataframe thead th {\n",
       "        text-align: right;\n",
       "    }\n",
       "</style>\n",
       "<table border=\"1\" class=\"dataframe\">\n",
       "  <thead>\n",
       "    <tr style=\"text-align: right;\">\n",
       "      <th></th>\n",
       "      <th>Exited</th>\n",
       "      <th>CreditScore</th>\n",
       "      <th>Age</th>\n",
       "      <th>Tenure</th>\n",
       "      <th>Balance</th>\n",
       "      <th>NumOfProducts</th>\n",
       "      <th>EstimatedSalary</th>\n",
       "      <th>PercSalarioSaldo</th>\n",
       "      <th>FidelidadePorIdade</th>\n",
       "      <th>ScorePorIdade</th>\n",
       "      <th>HasCrCard</th>\n",
       "      <th>IsActiveMember</th>\n",
       "      <th>Geography</th>\n",
       "      <th>Gender</th>\n",
       "    </tr>\n",
       "  </thead>\n",
       "  <tbody>\n",
       "    <tr>\n",
       "      <th>8159</th>\n",
       "      <td>0</td>\n",
       "      <td>461</td>\n",
       "      <td>25</td>\n",
       "      <td>6</td>\n",
       "      <td>0.00</td>\n",
       "      <td>2</td>\n",
       "      <td>15306.29</td>\n",
       "      <td>0.000000</td>\n",
       "      <td>0.240000</td>\n",
       "      <td>18.440000</td>\n",
       "      <td>1</td>\n",
       "      <td>1</td>\n",
       "      <td>Spain</td>\n",
       "      <td>Female</td>\n",
       "    </tr>\n",
       "    <tr>\n",
       "      <th>6332</th>\n",
       "      <td>0</td>\n",
       "      <td>619</td>\n",
       "      <td>35</td>\n",
       "      <td>4</td>\n",
       "      <td>90413.12</td>\n",
       "      <td>1</td>\n",
       "      <td>20555.21</td>\n",
       "      <td>4.398550</td>\n",
       "      <td>0.114286</td>\n",
       "      <td>17.685714</td>\n",
       "      <td>1</td>\n",
       "      <td>1</td>\n",
       "      <td>France</td>\n",
       "      <td>Female</td>\n",
       "    </tr>\n",
       "    <tr>\n",
       "      <th>8895</th>\n",
       "      <td>0</td>\n",
       "      <td>699</td>\n",
       "      <td>40</td>\n",
       "      <td>8</td>\n",
       "      <td>122038.34</td>\n",
       "      <td>1</td>\n",
       "      <td>102085.35</td>\n",
       "      <td>1.195454</td>\n",
       "      <td>0.200000</td>\n",
       "      <td>17.475000</td>\n",
       "      <td>1</td>\n",
       "      <td>-1</td>\n",
       "      <td>France</td>\n",
       "      <td>Female</td>\n",
       "    </tr>\n",
       "    <tr>\n",
       "      <th>5351</th>\n",
       "      <td>0</td>\n",
       "      <td>558</td>\n",
       "      <td>41</td>\n",
       "      <td>2</td>\n",
       "      <td>124227.14</td>\n",
       "      <td>1</td>\n",
       "      <td>111184.67</td>\n",
       "      <td>1.117305</td>\n",
       "      <td>0.048780</td>\n",
       "      <td>13.609756</td>\n",
       "      <td>1</td>\n",
       "      <td>1</td>\n",
       "      <td>Germany</td>\n",
       "      <td>Male</td>\n",
       "    </tr>\n",
       "    <tr>\n",
       "      <th>4314</th>\n",
       "      <td>0</td>\n",
       "      <td>638</td>\n",
       "      <td>34</td>\n",
       "      <td>5</td>\n",
       "      <td>133501.36</td>\n",
       "      <td>1</td>\n",
       "      <td>155643.04</td>\n",
       "      <td>0.857741</td>\n",
       "      <td>0.147059</td>\n",
       "      <td>18.764706</td>\n",
       "      <td>-1</td>\n",
       "      <td>1</td>\n",
       "      <td>France</td>\n",
       "      <td>Male</td>\n",
       "    </tr>\n",
       "  </tbody>\n",
       "</table>\n",
       "</div>"
      ],
      "text/plain": [
       "      Exited  CreditScore  Age  Tenure    Balance  NumOfProducts  \\\n",
       "8159       0          461   25       6       0.00              2   \n",
       "6332       0          619   35       4   90413.12              1   \n",
       "8895       0          699   40       8  122038.34              1   \n",
       "5351       0          558   41       2  124227.14              1   \n",
       "4314       0          638   34       5  133501.36              1   \n",
       "\n",
       "      EstimatedSalary  PercSalarioSaldo  FidelidadePorIdade  ScorePorIdade  \\\n",
       "8159         15306.29          0.000000            0.240000      18.440000   \n",
       "6332         20555.21          4.398550            0.114286      17.685714   \n",
       "8895        102085.35          1.195454            0.200000      17.475000   \n",
       "5351        111184.67          1.117305            0.048780      13.609756   \n",
       "4314        155643.04          0.857741            0.147059      18.764706   \n",
       "\n",
       "      HasCrCard  IsActiveMember Geography  Gender  \n",
       "8159          1               1     Spain  Female  \n",
       "6332          1               1    France  Female  \n",
       "8895          1              -1    France  Female  \n",
       "5351          1               1   Germany    Male  \n",
       "4314         -1               1    France    Male  "
      ]
     },
     "execution_count": 15,
     "metadata": {},
     "output_type": "execute_result"
    }
   ],
   "source": [
    "df_treino.loc[df_treino.HasCrCard == 0, 'HasCrCard'] = -1\n",
    "df_treino.loc[df_treino.IsActiveMember == 0, 'IsActiveMember'] = -1\n",
    "df_treino.head()"
   ]
  },
  {
   "cell_type": "code",
   "execution_count": 16,
   "id": "19335b36",
   "metadata": {},
   "outputs": [
    {
     "data": {
      "text/html": [
       "<div>\n",
       "<style scoped>\n",
       "    .dataframe tbody tr th:only-of-type {\n",
       "        vertical-align: middle;\n",
       "    }\n",
       "\n",
       "    .dataframe tbody tr th {\n",
       "        vertical-align: top;\n",
       "    }\n",
       "\n",
       "    .dataframe thead th {\n",
       "        text-align: right;\n",
       "    }\n",
       "</style>\n",
       "<table border=\"1\" class=\"dataframe\">\n",
       "  <thead>\n",
       "    <tr style=\"text-align: right;\">\n",
       "      <th></th>\n",
       "      <th>Exited</th>\n",
       "      <th>CreditScore</th>\n",
       "      <th>Age</th>\n",
       "      <th>Tenure</th>\n",
       "      <th>Balance</th>\n",
       "      <th>NumOfProducts</th>\n",
       "      <th>EstimatedSalary</th>\n",
       "      <th>PercSalarioSaldo</th>\n",
       "      <th>FidelidadePorIdade</th>\n",
       "      <th>ScorePorIdade</th>\n",
       "      <th>HasCrCard</th>\n",
       "      <th>IsActiveMember</th>\n",
       "      <th>Geography_Spain</th>\n",
       "      <th>Geography_France</th>\n",
       "      <th>Geography_Germany</th>\n",
       "      <th>Gender_Female</th>\n",
       "      <th>Gender_Male</th>\n",
       "    </tr>\n",
       "  </thead>\n",
       "  <tbody>\n",
       "    <tr>\n",
       "      <th>8159</th>\n",
       "      <td>0</td>\n",
       "      <td>461</td>\n",
       "      <td>25</td>\n",
       "      <td>6</td>\n",
       "      <td>0.00</td>\n",
       "      <td>2</td>\n",
       "      <td>15306.29</td>\n",
       "      <td>0.000000</td>\n",
       "      <td>0.240000</td>\n",
       "      <td>18.440000</td>\n",
       "      <td>1</td>\n",
       "      <td>1</td>\n",
       "      <td>1</td>\n",
       "      <td>-1</td>\n",
       "      <td>-1</td>\n",
       "      <td>1</td>\n",
       "      <td>-1</td>\n",
       "    </tr>\n",
       "    <tr>\n",
       "      <th>6332</th>\n",
       "      <td>0</td>\n",
       "      <td>619</td>\n",
       "      <td>35</td>\n",
       "      <td>4</td>\n",
       "      <td>90413.12</td>\n",
       "      <td>1</td>\n",
       "      <td>20555.21</td>\n",
       "      <td>4.398550</td>\n",
       "      <td>0.114286</td>\n",
       "      <td>17.685714</td>\n",
       "      <td>1</td>\n",
       "      <td>1</td>\n",
       "      <td>-1</td>\n",
       "      <td>1</td>\n",
       "      <td>-1</td>\n",
       "      <td>1</td>\n",
       "      <td>-1</td>\n",
       "    </tr>\n",
       "    <tr>\n",
       "      <th>8895</th>\n",
       "      <td>0</td>\n",
       "      <td>699</td>\n",
       "      <td>40</td>\n",
       "      <td>8</td>\n",
       "      <td>122038.34</td>\n",
       "      <td>1</td>\n",
       "      <td>102085.35</td>\n",
       "      <td>1.195454</td>\n",
       "      <td>0.200000</td>\n",
       "      <td>17.475000</td>\n",
       "      <td>1</td>\n",
       "      <td>-1</td>\n",
       "      <td>-1</td>\n",
       "      <td>1</td>\n",
       "      <td>-1</td>\n",
       "      <td>1</td>\n",
       "      <td>-1</td>\n",
       "    </tr>\n",
       "    <tr>\n",
       "      <th>5351</th>\n",
       "      <td>0</td>\n",
       "      <td>558</td>\n",
       "      <td>41</td>\n",
       "      <td>2</td>\n",
       "      <td>124227.14</td>\n",
       "      <td>1</td>\n",
       "      <td>111184.67</td>\n",
       "      <td>1.117305</td>\n",
       "      <td>0.048780</td>\n",
       "      <td>13.609756</td>\n",
       "      <td>1</td>\n",
       "      <td>1</td>\n",
       "      <td>-1</td>\n",
       "      <td>-1</td>\n",
       "      <td>1</td>\n",
       "      <td>-1</td>\n",
       "      <td>1</td>\n",
       "    </tr>\n",
       "    <tr>\n",
       "      <th>4314</th>\n",
       "      <td>0</td>\n",
       "      <td>638</td>\n",
       "      <td>34</td>\n",
       "      <td>5</td>\n",
       "      <td>133501.36</td>\n",
       "      <td>1</td>\n",
       "      <td>155643.04</td>\n",
       "      <td>0.857741</td>\n",
       "      <td>0.147059</td>\n",
       "      <td>18.764706</td>\n",
       "      <td>-1</td>\n",
       "      <td>1</td>\n",
       "      <td>-1</td>\n",
       "      <td>1</td>\n",
       "      <td>-1</td>\n",
       "      <td>-1</td>\n",
       "      <td>1</td>\n",
       "    </tr>\n",
       "  </tbody>\n",
       "</table>\n",
       "</div>"
      ],
      "text/plain": [
       "      Exited  CreditScore  Age  Tenure    Balance  NumOfProducts  \\\n",
       "8159       0          461   25       6       0.00              2   \n",
       "6332       0          619   35       4   90413.12              1   \n",
       "8895       0          699   40       8  122038.34              1   \n",
       "5351       0          558   41       2  124227.14              1   \n",
       "4314       0          638   34       5  133501.36              1   \n",
       "\n",
       "      EstimatedSalary  PercSalarioSaldo  FidelidadePorIdade  ScorePorIdade  \\\n",
       "8159         15306.29          0.000000            0.240000      18.440000   \n",
       "6332         20555.21          4.398550            0.114286      17.685714   \n",
       "8895        102085.35          1.195454            0.200000      17.475000   \n",
       "5351        111184.67          1.117305            0.048780      13.609756   \n",
       "4314        155643.04          0.857741            0.147059      18.764706   \n",
       "\n",
       "      HasCrCard  IsActiveMember  Geography_Spain  Geography_France  \\\n",
       "8159          1               1                1                -1   \n",
       "6332          1               1               -1                 1   \n",
       "8895          1              -1               -1                 1   \n",
       "5351          1               1               -1                -1   \n",
       "4314         -1               1               -1                 1   \n",
       "\n",
       "      Geography_Germany  Gender_Female  Gender_Male  \n",
       "8159                 -1              1           -1  \n",
       "6332                 -1              1           -1  \n",
       "8895                 -1              1           -1  \n",
       "5351                  1             -1            1  \n",
       "4314                 -1             -1            1  "
      ]
     },
     "execution_count": 16,
     "metadata": {},
     "output_type": "execute_result"
    }
   ],
   "source": [
    "lista = ['Geography', 'Gender']\n",
    "remover = list()\n",
    "for i in lista:\n",
    "    if (df_treino[i].dtype == np.str_ or df_treino[i].dtype == np.object_):\n",
    "        for j in df_treino[i].unique():\n",
    "            df_treino[i+'_'+j] = np.where(df_treino[i] == j,1,-1)\n",
    "        remover.append(i)\n",
    "df_treino = df_treino.drop(remover, axis=1)\n",
    "df_treino.head()"
   ]
  },
  {
   "cell_type": "code",
   "execution_count": 17,
   "id": "4ccd5f17",
   "metadata": {},
   "outputs": [
    {
     "data": {
      "text/html": [
       "<div>\n",
       "<style scoped>\n",
       "    .dataframe tbody tr th:only-of-type {\n",
       "        vertical-align: middle;\n",
       "    }\n",
       "\n",
       "    .dataframe tbody tr th {\n",
       "        vertical-align: top;\n",
       "    }\n",
       "\n",
       "    .dataframe thead th {\n",
       "        text-align: right;\n",
       "    }\n",
       "</style>\n",
       "<table border=\"1\" class=\"dataframe\">\n",
       "  <thead>\n",
       "    <tr style=\"text-align: right;\">\n",
       "      <th></th>\n",
       "      <th>Exited</th>\n",
       "      <th>CreditScore</th>\n",
       "      <th>Age</th>\n",
       "      <th>Tenure</th>\n",
       "      <th>Balance</th>\n",
       "      <th>NumOfProducts</th>\n",
       "      <th>EstimatedSalary</th>\n",
       "      <th>PercSalarioSaldo</th>\n",
       "      <th>FidelidadePorIdade</th>\n",
       "      <th>ScorePorIdade</th>\n",
       "      <th>HasCrCard</th>\n",
       "      <th>IsActiveMember</th>\n",
       "      <th>Geography_Spain</th>\n",
       "      <th>Geography_France</th>\n",
       "      <th>Geography_Germany</th>\n",
       "      <th>Gender_Female</th>\n",
       "      <th>Gender_Male</th>\n",
       "    </tr>\n",
       "  </thead>\n",
       "  <tbody>\n",
       "    <tr>\n",
       "      <th>8159</th>\n",
       "      <td>0</td>\n",
       "      <td>0.222</td>\n",
       "      <td>0.094595</td>\n",
       "      <td>0.6</td>\n",
       "      <td>0.000000</td>\n",
       "      <td>0.333333</td>\n",
       "      <td>0.076118</td>\n",
       "      <td>0.000000</td>\n",
       "      <td>0.432000</td>\n",
       "      <td>0.323157</td>\n",
       "      <td>1</td>\n",
       "      <td>1</td>\n",
       "      <td>1</td>\n",
       "      <td>-1</td>\n",
       "      <td>-1</td>\n",
       "      <td>1</td>\n",
       "      <td>-1</td>\n",
       "    </tr>\n",
       "    <tr>\n",
       "      <th>6332</th>\n",
       "      <td>0</td>\n",
       "      <td>0.538</td>\n",
       "      <td>0.229730</td>\n",
       "      <td>0.4</td>\n",
       "      <td>0.360358</td>\n",
       "      <td>0.000000</td>\n",
       "      <td>0.102376</td>\n",
       "      <td>0.003317</td>\n",
       "      <td>0.205714</td>\n",
       "      <td>0.305211</td>\n",
       "      <td>1</td>\n",
       "      <td>1</td>\n",
       "      <td>-1</td>\n",
       "      <td>1</td>\n",
       "      <td>-1</td>\n",
       "      <td>1</td>\n",
       "      <td>-1</td>\n",
       "    </tr>\n",
       "    <tr>\n",
       "      <th>8895</th>\n",
       "      <td>0</td>\n",
       "      <td>0.698</td>\n",
       "      <td>0.297297</td>\n",
       "      <td>0.8</td>\n",
       "      <td>0.486406</td>\n",
       "      <td>0.000000</td>\n",
       "      <td>0.510225</td>\n",
       "      <td>0.000901</td>\n",
       "      <td>0.360000</td>\n",
       "      <td>0.300198</td>\n",
       "      <td>1</td>\n",
       "      <td>-1</td>\n",
       "      <td>-1</td>\n",
       "      <td>1</td>\n",
       "      <td>-1</td>\n",
       "      <td>1</td>\n",
       "      <td>-1</td>\n",
       "    </tr>\n",
       "    <tr>\n",
       "      <th>5351</th>\n",
       "      <td>0</td>\n",
       "      <td>0.416</td>\n",
       "      <td>0.310811</td>\n",
       "      <td>0.2</td>\n",
       "      <td>0.495130</td>\n",
       "      <td>0.000000</td>\n",
       "      <td>0.555744</td>\n",
       "      <td>0.000843</td>\n",
       "      <td>0.087805</td>\n",
       "      <td>0.208238</td>\n",
       "      <td>1</td>\n",
       "      <td>1</td>\n",
       "      <td>-1</td>\n",
       "      <td>-1</td>\n",
       "      <td>1</td>\n",
       "      <td>-1</td>\n",
       "      <td>1</td>\n",
       "    </tr>\n",
       "    <tr>\n",
       "      <th>4314</th>\n",
       "      <td>0</td>\n",
       "      <td>0.576</td>\n",
       "      <td>0.216216</td>\n",
       "      <td>0.5</td>\n",
       "      <td>0.532094</td>\n",
       "      <td>0.000000</td>\n",
       "      <td>0.778145</td>\n",
       "      <td>0.000647</td>\n",
       "      <td>0.264706</td>\n",
       "      <td>0.330882</td>\n",
       "      <td>-1</td>\n",
       "      <td>1</td>\n",
       "      <td>-1</td>\n",
       "      <td>1</td>\n",
       "      <td>-1</td>\n",
       "      <td>-1</td>\n",
       "      <td>1</td>\n",
       "    </tr>\n",
       "  </tbody>\n",
       "</table>\n",
       "</div>"
      ],
      "text/plain": [
       "      Exited  CreditScore       Age  Tenure   Balance  NumOfProducts  \\\n",
       "8159       0        0.222  0.094595     0.6  0.000000       0.333333   \n",
       "6332       0        0.538  0.229730     0.4  0.360358       0.000000   \n",
       "8895       0        0.698  0.297297     0.8  0.486406       0.000000   \n",
       "5351       0        0.416  0.310811     0.2  0.495130       0.000000   \n",
       "4314       0        0.576  0.216216     0.5  0.532094       0.000000   \n",
       "\n",
       "      EstimatedSalary  PercSalarioSaldo  FidelidadePorIdade  ScorePorIdade  \\\n",
       "8159         0.076118          0.000000            0.432000       0.323157   \n",
       "6332         0.102376          0.003317            0.205714       0.305211   \n",
       "8895         0.510225          0.000901            0.360000       0.300198   \n",
       "5351         0.555744          0.000843            0.087805       0.208238   \n",
       "4314         0.778145          0.000647            0.264706       0.330882   \n",
       "\n",
       "      HasCrCard  IsActiveMember  Geography_Spain  Geography_France  \\\n",
       "8159          1               1                1                -1   \n",
       "6332          1               1               -1                 1   \n",
       "8895          1              -1               -1                 1   \n",
       "5351          1               1               -1                -1   \n",
       "4314         -1               1               -1                 1   \n",
       "\n",
       "      Geography_Germany  Gender_Female  Gender_Male  \n",
       "8159                 -1              1           -1  \n",
       "6332                 -1              1           -1  \n",
       "8895                 -1              1           -1  \n",
       "5351                  1             -1            1  \n",
       "4314                 -1             -1            1  "
      ]
     },
     "execution_count": 17,
     "metadata": {},
     "output_type": "execute_result"
    }
   ],
   "source": [
    "# Aplicação do minMax scaling para as variáveis contínuas\n",
    "minV = df_treino[var_continuas].min().copy()\n",
    "maxV = df_treino[var_continuas].max().copy()\n",
    "df_treino[var_continuas] = (df_treino[var_continuas]-minV)/(maxV-minV)\n",
    "df_treino.head()"
   ]
  },
  {
   "cell_type": "code",
   "execution_count": 18,
   "id": "c2caf9d4",
   "metadata": {},
   "outputs": [],
   "source": [
    "# Preparação do pipeline para a etapa de modelagem\n",
    "def Preparar_Fluxo_Dados (df_predicao,df_treino_Col,minV,maxV):\n",
    "    # Adicionando os novos atributos\n",
    "    df_predicao['PercSalarioSaldo'] = df_predicao.Balance/df_predicao.EstimatedSalary\n",
    "    df_predicao['FidelidadePorIdade'] = df_predicao.Tenure/(df_predicao.Age - 18)\n",
    "    df_predicao['ScorePorIdade'] = df_predicao.CreditScore/(df_predicao.Age - 18)\n",
    "    # Reordenando as colunas\n",
    "    var_continuas = ['CreditScore','Age','Tenure','Balance','NumOfProducts','EstimatedSalary','PercSalarioSaldo',\n",
    "                   'FidelidadePorIdade','ScorePorIdade']\n",
    "    var_categoricas = ['HasCrCard','IsActiveMember','Geography', 'Gender'] \n",
    "    df_predicao = df_predicao[['Exited'] + var_continuas + var_categoricas]\n",
    "    # Troca o 0 por -1 nas variáveis categóricas\n",
    "    df_predicao.loc[df_predicao.HasCrCard == 0, 'HasCrCard'] = -1\n",
    "    df_predicao.loc[df_predicao.IsActiveMember == 0, 'IsActiveMember'] = -1\n",
    "    # One hot encode para as 2 variáveis categóricas\n",
    "    lista = [\"Geography\", \"Gender\"]\n",
    "    remover = list()\n",
    "    for i in lista:\n",
    "        for j in df_predicao[i].unique():\n",
    "            df_predicao[i+'_'+j] = np.where(df_predicao[i] == j,1,-1)\n",
    "        remover.append(i)\n",
    "    df_predicao = df_predicao.drop(remover, axis=1)\n",
    "    # Garantindo que todas as variáveis hot encoded que aparecem no treino, aparecerão posteriormente.\n",
    "    L = list(set(df_treino_Col) - set(df_predicao.columns))\n",
    "    for l in L:\n",
    "        df_predicao[str(l)] = -1        \n",
    "    # MinMax scaling das variáveis contínuas baseadas nos dados de treino\n",
    "    df_predicao[var_continuas] = (df_predicao[var_continuas]-minV)/(maxV-minV)\n",
    "    # Ensure that The variables are ordered in the same way as was ordered in the train set\n",
    "    df_predicao = df_predicao[df_treino_Col]\n",
    "    return df_predicao"
   ]
  },
  {
   "cell_type": "markdown",
   "id": "476c8325",
   "metadata": {},
   "source": [
    "### 6. AJUSTE DE MODELOS E SELEÇÃO "
   ]
  },
  {
   "cell_type": "markdown",
   "id": "f58bf691",
   "metadata": {},
   "source": [
    "Com o objetivo de ajustarmos nosso modelo ao máximo, buscando prever o comportamento dos dados, vamos tentar as seguintes técnicas:\n",
    "\n",
    "* Regressão logística com diferentes kernels;\n",
    "* SVM com diferentes kernels;\n",
    "* Modelos ensemble."
   ]
  },
  {
   "cell_type": "code",
   "execution_count": 19,
   "id": "37b434e2",
   "metadata": {},
   "outputs": [],
   "source": [
    "# Funções de apoio\n",
    "from sklearn.preprocessing import PolynomialFeatures\n",
    "from sklearn.model_selection import cross_val_score\n",
    "from sklearn.model_selection import GridSearchCV\n",
    "from scipy.stats import uniform"
   ]
  },
  {
   "cell_type": "code",
   "execution_count": 20,
   "id": "b933aaa4",
   "metadata": {},
   "outputs": [],
   "source": [
    "# Funções para ajustar os modelos \n",
    "from sklearn.linear_model import LogisticRegression\n",
    "from sklearn.svm import SVC\n",
    "from sklearn.ensemble import RandomForestClassifier\n",
    "from xgboost import XGBClassifier"
   ]
  },
  {
   "cell_type": "code",
   "execution_count": 21,
   "id": "698ca473",
   "metadata": {},
   "outputs": [],
   "source": [
    "# Funções para a determinação do score\n",
    "from sklearn.metrics import accuracy_score\n",
    "from sklearn.metrics import classification_report\n",
    "from sklearn.metrics import roc_auc_score\n",
    "from sklearn.metrics import roc_curve"
   ]
  },
  {
   "cell_type": "code",
   "execution_count": 22,
   "id": "7512103b",
   "metadata": {},
   "outputs": [],
   "source": [
    "# Função para passar o melhor modelo e seu score, assim como seus respectivos parâmetros\n",
    "def melhor_modelo(model):\n",
    "    print(model.best_score_)    \n",
    "    print(model.best_params_)\n",
    "    print(model.best_estimator_)\n",
    "def passar_auc_scores(y_actual, method,method2):\n",
    "    auc_score = roc_auc_score(y_actual, method); \n",
    "    fpr_df, tpr_df, _ = roc_curve(y_actual, method2); \n",
    "    return (auc_score, fpr_df, tpr_df)"
   ]
  },
  {
   "cell_type": "code",
   "execution_count": 23,
   "id": "ee21feff",
   "metadata": {},
   "outputs": [
    {
     "name": "stdout",
     "output_type": "stream",
     "text": [
      "0.8149999999999998\n",
      "{'C': 100, 'fit_intercept': True, 'intercept_scaling': 1, 'max_iter': 250, 'penalty': 'l2', 'tol': 1e-05}\n",
      "LogisticRegression(C=100, max_iter=250, tol=1e-05)\n"
     ]
    }
   ],
   "source": [
    "# Ajustar regressão logística\n",
    "param_grid = {'C': [0.1,0.5,1,10,50,100], 'max_iter': [250], 'fit_intercept':[True],'intercept_scaling':[1],\n",
    "              'penalty':['l2'], 'tol':[0.00001,0.0001,0.000001]}\n",
    "log_primal_Grid = GridSearchCV(LogisticRegression(solver='lbfgs'),param_grid, cv=10, refit=True, verbose=0)\n",
    "log_primal_Grid.fit(df_treino.loc[:, df_treino.columns != 'Exited'],df_treino.Exited)\n",
    "melhor_modelo(log_primal_Grid)"
   ]
  },
  {
   "cell_type": "code",
   "execution_count": 24,
   "id": "778ecde2",
   "metadata": {},
   "outputs": [
    {
     "name": "stdout",
     "output_type": "stream",
     "text": [
      "0.8553750000000001\n",
      "{'C': 50, 'fit_intercept': True, 'intercept_scaling': 1, 'max_iter': 300, 'penalty': 'l2', 'tol': 0.0001}\n",
      "LogisticRegression(C=50, max_iter=300, solver='liblinear')\n"
     ]
    }
   ],
   "source": [
    "# Regressão logística - kernel com polinômio de segundo grau\n",
    "param_grid = {'C': [0.1,10,50], 'max_iter': [300,500], 'fit_intercept':[True],'intercept_scaling':[1],'penalty':['l2'],\n",
    "              'tol':[0.0001,0.000001]}\n",
    "polinomio2 = PolynomialFeatures(degree=2)\n",
    "df_treino_pol2 = polinomio2.fit_transform(df_treino.loc[:, df_treino.columns != 'Exited'])\n",
    "log_pol2_Grid = GridSearchCV(LogisticRegression(solver = 'liblinear'),param_grid, cv=5, refit=True, verbose=0)\n",
    "log_pol2_Grid.fit(df_treino_pol2,df_treino.Exited)\n",
    "melhor_modelo(log_pol2_Grid)"
   ]
  },
  {
   "cell_type": "code",
   "execution_count": 25,
   "id": "c512066a",
   "metadata": {},
   "outputs": [
    {
     "name": "stdout",
     "output_type": "stream",
     "text": [
      "0.8518747609662071\n",
      "{'C': 100, 'gamma': 0.1, 'kernel': 'rbf', 'probability': True}\n",
      "SVC(C=100, gamma=0.1, probability=True)\n"
     ]
    }
   ],
   "source": [
    "# SVM com kernel 'rbf'\n",
    "param_grid = {'C': [0.5,100,150], 'gamma': [0.1,0.01,0.001],'probability':[True],'kernel': ['rbf']}\n",
    "SVM_Grid = GridSearchCV(SVC(), param_grid, cv=3, refit=True, verbose=0)\n",
    "SVM_Grid.fit(df_treino.loc[:, df_treino.columns != 'Exited'],df_treino.Exited)\n",
    "melhor_modelo(SVM_Grid)"
   ]
  },
  {
   "cell_type": "code",
   "execution_count": 26,
   "id": "8904d6db",
   "metadata": {},
   "outputs": [
    {
     "name": "stdout",
     "output_type": "stream",
     "text": [
      "0.8544999485716948\n",
      "{'C': 100, 'degree': 2, 'gamma': 0.1, 'kernel': 'poly', 'probability': True}\n",
      "SVC(C=100, degree=2, gamma=0.1, kernel='poly', probability=True)\n"
     ]
    }
   ],
   "source": [
    "# SVM com kernel 'poly'\n",
    "param_grid = {'C': [0.5,1,10,50,100], 'gamma': [0.1,0.01,0.001],'probability':[True],'kernel': ['poly'],'degree':[2,3] }\n",
    "SVM_grid = GridSearchCV(SVC(), param_grid, cv=3, refit=True, verbose=0)\n",
    "SVM_grid.fit(df_treino.loc[:, df_treino.columns != 'Exited'],df_treino.Exited)\n",
    "melhor_modelo(SVM_grid)"
   ]
  },
  {
   "cell_type": "code",
   "execution_count": 27,
   "id": "6c8d9023",
   "metadata": {},
   "outputs": [
    {
     "name": "stdout",
     "output_type": "stream",
     "text": [
      "0.8634999999999999\n",
      "{'max_depth': 8, 'max_features': 9, 'min_samples_split': 5, 'n_estimators': 50}\n",
      "RandomForestClassifier(max_depth=8, max_features=9, min_samples_split=5,\n",
      "                       n_estimators=50)\n"
     ]
    }
   ],
   "source": [
    "# Random Forest\n",
    "param_grid = {'max_depth': [3, 5, 6, 7, 8], 'max_features': [2,4,6,7,8,9],'n_estimators':[50,100],'min_samples_split': [3, 5, 6, 7]}\n",
    "RanFor_grid = GridSearchCV(RandomForestClassifier(), param_grid, cv=5, refit=True, verbose=0)\n",
    "RanFor_grid.fit(df_treino.loc[:, df_treino.columns != 'Exited'],df_treino.Exited)\n",
    "melhor_modelo(RanFor_grid)"
   ]
  },
  {
   "cell_type": "code",
   "execution_count": 29,
   "id": "dec7ee2c",
   "metadata": {},
   "outputs": [
    {
     "name": "stdout",
     "output_type": "stream",
     "text": [
      "0.8629999999999999\n",
      "{'gamma': 0.001, 'learning_rate': 0.2, 'max_depth': 7, 'min_child_weight': 1, 'n_estimators': 5}\n",
      "XGBClassifier(base_score=0.5, booster='gbtree', callbacks=None,\n",
      "              colsample_bylevel=1, colsample_bynode=1, colsample_bytree=1,\n",
      "              early_stopping_rounds=None, enable_categorical=False,\n",
      "              eval_metric=None, gamma=0.001, gpu_id=-1, grow_policy='depthwise',\n",
      "              importance_type=None, interaction_constraints='',\n",
      "              learning_rate=0.2, max_bin=256, max_cat_to_onehot=4,\n",
      "              max_delta_step=0, max_depth=7, max_leaves=0, min_child_weight=1,\n",
      "              missing=nan, monotone_constraints='()', n_estimators=5, n_jobs=0,\n",
      "              num_parallel_tree=1, predictor='auto', random_state=0,\n",
      "              reg_alpha=0, reg_lambda=1, ...)\n"
     ]
    }
   ],
   "source": [
    "# XGBoosting \n",
    "param_grid = {'max_depth': [5,6,7,8], 'gamma': [0.01,0.001,0.001],'min_child_weight':[1,5,10], 'learning_rate': [0.05,0.1, 0.2, 0.3], 'n_estimators':[5,10,20,100]}\n",
    "xgb_grid = GridSearchCV(XGBClassifier(), param_grid, cv=5, refit=True, verbose=0)\n",
    "xgb_grid.fit(df_treino.loc[:, df_treino.columns != 'Exited'],df_treino.Exited)\n",
    "melhor_modelo(xgb_grid)"
   ]
  },
  {
   "cell_type": "markdown",
   "id": "1c1d37bf",
   "metadata": {},
   "source": [
    "##### 6.1. MELHORES PARÂMETROS DE CADA ALGORITMO"
   ]
  },
  {
   "cell_type": "code",
   "execution_count": 30,
   "id": "adaebbfd",
   "metadata": {},
   "outputs": [
    {
     "data": {
      "text/plain": [
       "LogisticRegression(C=100, max_iter=250, tol=1e-05)"
      ]
     },
     "execution_count": 30,
     "metadata": {},
     "output_type": "execute_result"
    }
   ],
   "source": [
    "# Regressão Logística\n",
    "log_primal = LogisticRegression(C=100, class_weight=None, dual=False, fit_intercept=True,intercept_scaling=1, max_iter=250,n_jobs=None, \n",
    "                                penalty='l2', random_state=None, solver='lbfgs',tol=1e-05, verbose=0, warm_start=False)\n",
    "log_primal.fit(df_treino.loc[:, df_treino.columns != 'Exited'],df_treino.Exited)"
   ]
  },
  {
   "cell_type": "code",
   "execution_count": 31,
   "id": "1cb34237",
   "metadata": {},
   "outputs": [
    {
     "data": {
      "text/plain": [
       "LogisticRegression(C=10, max_iter=300, solver='liblinear')"
      ]
     },
     "execution_count": 31,
     "metadata": {},
     "output_type": "execute_result"
    }
   ],
   "source": [
    "# Regressão Logística com kernel e polinômio de grau 2\n",
    "poly2 = PolynomialFeatures(degree=2)\n",
    "df_treino_pol2 = poly2.fit_transform(df_treino.loc[:, df_treino.columns != 'Exited'])\n",
    "log_pol2 = LogisticRegression(C=10, class_weight=None, dual=False, fit_intercept=True,intercept_scaling=1, max_iter=300, n_jobs=None, \n",
    "                              penalty='l2', random_state=None, solver='liblinear',tol=0.0001, verbose=0, warm_start=False)\n",
    "log_pol2.fit(df_treino_pol2,df_treino.Exited)"
   ]
  },
  {
   "cell_type": "code",
   "execution_count": 32,
   "id": "e2c81941",
   "metadata": {},
   "outputs": [
    {
     "data": {
      "text/plain": [
       "SVC(C=100, gamma=0.1, probability=True)"
      ]
     },
     "execution_count": 32,
     "metadata": {},
     "output_type": "execute_result"
    }
   ],
   "source": [
    "# SVM com kernel 'rbf'\n",
    "SVM_RBF = SVC(C=100, cache_size=200, class_weight=None, coef0=0.0, decision_function_shape='ovr', degree=3, gamma=0.1, kernel='rbf', max_iter=-1, probability=True, \n",
    "              random_state=None, shrinking=True,tol=0.001, verbose=False)\n",
    "SVM_RBF.fit(df_treino.loc[:, df_treino.columns != 'Exited'],df_treino.Exited)"
   ]
  },
  {
   "cell_type": "code",
   "execution_count": 33,
   "id": "57ed7cd4",
   "metadata": {},
   "outputs": [
    {
     "data": {
      "text/plain": [
       "SVC(C=100, degree=2, gamma=0.1, kernel='poly', probability=True)"
      ]
     },
     "execution_count": 33,
     "metadata": {},
     "output_type": "execute_result"
    }
   ],
   "source": [
    "# SVM com kernel 'poly'\n",
    "SVM_POL = SVC(C=100, cache_size=200, class_weight=None, coef0=0.0,  decision_function_shape='ovr', degree=2, gamma=0.1, kernel='poly',  max_iter=-1,\n",
    "              probability=True, random_state=None, shrinking=True, tol=0.001, verbose=False)\n",
    "SVM_POL.fit(df_treino.loc[:, df_treino.columns != 'Exited'],df_treino.Exited)"
   ]
  },
  {
   "cell_type": "code",
   "execution_count": 34,
   "id": "f4e8c23e",
   "metadata": {},
   "outputs": [
    {
     "data": {
      "text/plain": [
       "RandomForestClassifier(max_depth=8, max_features=6, min_samples_split=3,\n",
       "                       n_estimators=50)"
      ]
     },
     "execution_count": 34,
     "metadata": {},
     "output_type": "execute_result"
    }
   ],
   "source": [
    "# Random Forest\n",
    "RF = RandomForestClassifier(bootstrap=True, class_weight=None, criterion='gini',max_depth=8, max_features=6, max_leaf_nodes=None,min_impurity_decrease=0.0,\n",
    "                            min_impurity_split=None,min_samples_leaf=1, min_samples_split=3,min_weight_fraction_leaf=0.0, n_estimators=50, n_jobs=None,\n",
    "                            oob_score=False, random_state=None, verbose=0,warm_start=False)\n",
    "RF.fit(df_treino.loc[:, df_treino.columns != 'Exited'],df_treino.Exited)"
   ]
  },
  {
   "cell_type": "code",
   "execution_count": 46,
   "id": "ef12763d",
   "metadata": {},
   "outputs": [
    {
     "data": {
      "text/plain": [
       "XGBClassifier(base_score=0.5, booster='gbtree', callbacks=None,\n",
       "              colsample_bylevel=1, colsample_bynode=1, colsample_bytree=1,\n",
       "              early_stopping_rounds=None, enable_categorical=False,\n",
       "              eval_metric=None, gamma=0.01, gpu_id=-1, grow_policy='depthwise',\n",
       "              importance_type=None, interaction_constraints='',\n",
       "              learning_rate=0.1, max_bin=256, max_cat_to_onehot=4,\n",
       "              max_delta_step=0, max_depth=7, max_leaves=0, min_child_weight=5,\n",
       "              missing=nan, monotone_constraints='()', n_estimators=20, n_jobs=1,\n",
       "              nthread=1, num_parallel_tree=1, predictor='auto', random_state=0,\n",
       "              reg_alpha=0, ...)"
      ]
     },
     "execution_count": 46,
     "metadata": {},
     "output_type": "execute_result"
    }
   ],
   "source": [
    "# XGBooster\n",
    "XGB = XGBClassifier(base_score=0.5, booster='gbtree', colsample_bylevel=1,colsample_bytree=1, gamma=0.01, learning_rate=0.1, max_delta_step=0,max_depth=7,\n",
    "                    min_child_weight=5, n_estimators=20,n_jobs=1, nthread=None, objective='binary:logistic', random_state=0,reg_alpha=0, \n",
    "                    reg_lambda=1, scale_pos_weight=1, seed=None, subsample=1)\n",
    "XGB.fit(df_treino.loc[:, df_treino.columns != 'Exited'],df_treino.Exited)"
   ]
  },
  {
   "cell_type": "markdown",
   "id": "46ceecf2",
   "metadata": {},
   "source": [
    "##### 6.2. PRECISÃO DO MELHOR AJUSTE DO MODELO"
   ]
  },
  {
   "cell_type": "markdown",
   "id": "9ca437a8",
   "metadata": {},
   "source": [
    "Após a análise dos modelos de previsão, vamos dar uma olhada na precisão dos mesmos. Como um dos objetivos deste estudo é a análise dos clientes que saem do banco, vamos focar na precisão dos *Churns*."
   ]
  },
  {
   "cell_type": "code",
   "execution_count": 36,
   "id": "e8526228",
   "metadata": {},
   "outputs": [
    {
     "name": "stdout",
     "output_type": "stream",
     "text": [
      "              precision    recall  f1-score   support\n",
      "\n",
      "           0       0.83      0.97      0.89      6353\n",
      "           1       0.64      0.24      0.35      1647\n",
      "\n",
      "    accuracy                           0.82      8000\n",
      "   macro avg       0.73      0.60      0.62      8000\n",
      "weighted avg       0.79      0.82      0.78      8000\n",
      "\n"
     ]
    }
   ],
   "source": [
    "print(classification_report(df_treino.Exited, log_primal.predict(df_treino.loc[:, df_treino.columns != 'Exited'])))"
   ]
  },
  {
   "cell_type": "code",
   "execution_count": 37,
   "id": "4db9903b",
   "metadata": {},
   "outputs": [
    {
     "name": "stdout",
     "output_type": "stream",
     "text": [
      "              precision    recall  f1-score   support\n",
      "\n",
      "           0       0.87      0.97      0.92      6353\n",
      "           1       0.77      0.46      0.57      1647\n",
      "\n",
      "    accuracy                           0.86      8000\n",
      "   macro avg       0.82      0.71      0.75      8000\n",
      "weighted avg       0.85      0.86      0.85      8000\n",
      "\n"
     ]
    }
   ],
   "source": [
    "print(classification_report(df_treino.Exited, log_pol2.predict(df_treino_pol2)))"
   ]
  },
  {
   "cell_type": "code",
   "execution_count": 38,
   "id": "67df322e",
   "metadata": {},
   "outputs": [
    {
     "name": "stdout",
     "output_type": "stream",
     "text": [
      "              precision    recall  f1-score   support\n",
      "\n",
      "           0       0.86      0.98      0.92      6353\n",
      "           1       0.85      0.40      0.54      1647\n",
      "\n",
      "    accuracy                           0.86      8000\n",
      "   macro avg       0.86      0.69      0.73      8000\n",
      "weighted avg       0.86      0.86      0.84      8000\n",
      "\n"
     ]
    }
   ],
   "source": [
    "print(classification_report(df_treino.Exited, SVM_RBF.predict(df_treino.loc[:, df_treino.columns != 'Exited'])))"
   ]
  },
  {
   "cell_type": "code",
   "execution_count": 39,
   "id": "fc423ca6",
   "metadata": {},
   "outputs": [
    {
     "name": "stdout",
     "output_type": "stream",
     "text": [
      "              precision    recall  f1-score   support\n",
      "\n",
      "           0       0.86      0.98      0.92      6353\n",
      "           1       0.84      0.38      0.52      1647\n",
      "\n",
      "    accuracy                           0.86      8000\n",
      "   macro avg       0.85      0.68      0.72      8000\n",
      "weighted avg       0.85      0.86      0.83      8000\n",
      "\n"
     ]
    }
   ],
   "source": [
    "print(classification_report(df_treino.Exited, SVM_POL.predict(df_treino.loc[:, df_treino.columns != 'Exited'])))"
   ]
  },
  {
   "cell_type": "code",
   "execution_count": 40,
   "id": "564c2b2b",
   "metadata": {},
   "outputs": [
    {
     "name": "stdout",
     "output_type": "stream",
     "text": [
      "              precision    recall  f1-score   support\n",
      "\n",
      "           0       0.89      0.98      0.93      6353\n",
      "           1       0.88      0.52      0.65      1647\n",
      "\n",
      "    accuracy                           0.89      8000\n",
      "   macro avg       0.89      0.75      0.79      8000\n",
      "weighted avg       0.89      0.89      0.87      8000\n",
      "\n"
     ]
    }
   ],
   "source": [
    "print(classification_report(df_treino.Exited,  RF.predict(df_treino.loc[:, df_treino.columns != 'Exited'])))"
   ]
  },
  {
   "cell_type": "code",
   "execution_count": 47,
   "id": "d712c0d5",
   "metadata": {},
   "outputs": [
    {
     "name": "stdout",
     "output_type": "stream",
     "text": [
      "              precision    recall  f1-score   support\n",
      "\n",
      "           0       0.89      0.97      0.93      6353\n",
      "           1       0.83      0.53      0.64      1647\n",
      "\n",
      "    accuracy                           0.88      8000\n",
      "   macro avg       0.86      0.75      0.79      8000\n",
      "weighted avg       0.88      0.88      0.87      8000\n",
      "\n"
     ]
    }
   ],
   "source": [
    "print(classification_report(df_treino.Exited,  XGB.predict(df_treino.loc[:, df_treino.columns != 'Exited'])))"
   ]
  },
  {
   "cell_type": "code",
   "execution_count": 61,
   "id": "cb23550a",
   "metadata": {},
   "outputs": [],
   "source": [
    "y = df_treino.Exited\n",
    "X = df_treino.loc[:, df_treino.columns != 'Exited']\n",
    "X_pol2 = df_treino_pol2\n",
    "auc_log_primal, fpr_log_primal, tpr_log_primal = passar_auc_scores(y, log_primal.predict(X),log_primal.predict_proba(X)[:,1])\n",
    "auc_log_pol2, fpr_log_pol2, tpr_log_pol2 = passar_auc_scores(y, log_pol2.predict(X_pol2),log_pol2.predict_proba(X_pol2)[:,1])\n",
    "auc_SVM_RBF, fpr_SVM_RBF, tpr_SVM_RBF = passar_auc_scores(y, SVM_RBF.predict(X),SVM_RBF.predict_proba(X)[:,1])\n",
    "auc_SVM_POL, fpr_SVM_POL, tpr_SVM_POL = passar_auc_scores(y, SVM_POL.predict(X),SVM_POL.predict_proba(X)[:,1])\n",
    "auc_RF, fpr_RF, tpr_RF = passar_auc_scores(y, RF.predict(X),RF.predict_proba(X)[:,1])\n",
    "auc_XGB, fpr_XGB, tpr_XGB = passar_auc_scores(y, XGB.predict(X),XGB.predict_proba(X)[:,1])"
   ]
  },
  {
   "cell_type": "code",
   "execution_count": 66,
   "id": "c37633ce",
   "metadata": {},
   "outputs": [
    {
     "data": {
      "image/png": "[encoded data removed]",
      "text/plain": [
       "<Figure size 864x432 with 1 Axes>"
      ]
     },
     "metadata": {
      "needs_background": "light"
     },
     "output_type": "display_data"
    }
   ],
   "source": [
    "plt.figure(figsize = (12,6), linewidth= 1)\n",
    "plt.plot(fpr_log_primal, tpr_log_primal, label = 'Score - Reg. Logística primal: ' + str(round(auc_log_primal, 5)))\n",
    "plt.plot(fpr_log_pol2, tpr_log_pol2, label = 'Score - Reg. Log. Polin. de seg. grau: ' + str(round(auc_log_pol2, 5)))\n",
    "plt.plot(fpr_SVM_RBF, tpr_SVM_RBF, label = 'Score - SVM com kernel RBF: ' + str(round(auc_SVM_RBF, 5)))\n",
    "plt.plot(fpr_SVM_POL, tpr_SVM_POL, label = 'Score - SVM com kernel POL: ' + str(round(auc_SVM_POL, 5)))\n",
    "plt.plot(fpr_RF, tpr_RF, label = 'Score - Random Forests: ' + str(round(auc_RF, 5)))\n",
    "plt.plot(fpr_XGB, tpr_XGB, label = 'Score - XGBoost: ' + str(round(auc_XGB, 5)))\n",
    "plt.plot([0,1], [0,1], 'k--', label = 'Random: 0.5')\n",
    "plt.xlabel('Score Falsos positivos')\n",
    "plt.ylabel('Score Verdadeiros positivos')\n",
    "plt.title('Curva ROC')\n",
    "plt.legend(loc='best')\n",
    "plt.show()\n"
   ]
  },
  {
   "cell_type": "markdown",
   "id": "57117ab5",
   "metadata": {},
   "source": [
    "Visto que o principal objetivo desse trabalho é prever o rol de clientes que irá evadir, para assim trabalhar em uma estratégia de retenção dos mesmos, podemos considerar as medidas de recall de '1' (churns), tão importantes quanto a precisão obtida para o mesmo grupo. "
   ]
  },
  {
   "cell_type": "markdown",
   "id": "2c97fd9a",
   "metadata": {},
   "source": [
    "Sendo que temos um churn de aproximadamente 20%, qualquer score de recall acima dessa base já nos indicaria uma evolução com a utilização do modelo selecionado. No entanto, vamos buscar, concomitantemente ao recall, a maior precisão possível, uma vez que também queremos que nosso modelo direcione os recursos disponíveis para o processamento do objetivo do modelo, e não dos falsos positivos."
   ]
  },
  {
   "cell_type": "markdown",
   "id": "28f230a9",
   "metadata": {},
   "source": [
    "De todos os modelos testados acima, o que mais se encaixa nos nossos parâmetros de busca é o método *Random Forests*, que obteve uma precisão de 88%, aliada a uma recall de 52% para o número '1', ou seja, de todos os clientes que o modelo de Random Forests aponta como possível *Churn*, 88% de fato acabam deixando a instituição bancária. Já os 52% de recall nos dizem que o modelo consegue destacar cerca de 53% de todos aqueles que evadiram.  "
   ]
  },
  {
   "cell_type": "code",
   "execution_count": 68,
   "id": "b60f6aa3",
   "metadata": {},
   "outputs": [
    {
     "data": {
      "text/plain": [
       "(1996, 17)"
      ]
     },
     "execution_count": 68,
     "metadata": {},
     "output_type": "execute_result"
    }
   ],
   "source": [
    "# Fazendo a transformação para os dados de teste\n",
    "df_teste = Preparar_Fluxo_Dados(df_teste,df_treino.columns,minV,maxV)\n",
    "df_teste = df_teste.mask(np.isinf(df_teste))\n",
    "df_teste = df_teste.dropna()\n",
    "df_teste.shape"
   ]
  },
  {
   "cell_type": "code",
   "execution_count": 73,
   "id": "46256031",
   "metadata": {
    "scrolled": true
   },
   "outputs": [
    {
     "name": "stdout",
     "output_type": "stream",
     "text": [
      "              precision    recall  f1-score   support\n",
      "\n",
      "           0       0.87      0.97      0.92      1607\n",
      "           1       0.78      0.39      0.52       389\n",
      "\n",
      "    accuracy                           0.86      1996\n",
      "   macro avg       0.82      0.68      0.72      1996\n",
      "weighted avg       0.85      0.86      0.84      1996\n",
      "\n"
     ]
    }
   ],
   "source": [
    "print(classification_report(df_teste.Exited,  RF.predict(df_teste.loc[:, df_teste.columns != 'Exited'])))"
   ]
  },
  {
   "cell_type": "code",
   "execution_count": 74,
   "id": "9800bac5",
   "metadata": {},
   "outputs": [
    {
     "data": {
      "image/png": "[encoded data removed]",
      "text/plain": [
       "<Figure size 864x432 with 1 Axes>"
      ]
     },
     "metadata": {
      "needs_background": "light"
     },
     "output_type": "display_data"
    }
   ],
   "source": [
    "auc_RF_teste, fpr_RF_teste, tpr_RF_teste = passar_auc_scores(df_teste.Exited, RF.predict(df_teste.loc[:, df_teste.columns != 'Exited']),\n",
    "                                                       RF.predict_proba(df_teste.loc[:, df_teste.columns != 'Exited'])[:,1])\n",
    "plt.figure(figsize = (12,6), linewidth= 1)\n",
    "plt.plot(fpr_RF_teste, tpr_RF_teste, label = 'Score - Random Forests: ' + str(round(auc_RF_teste, 5)))\n",
    "plt.plot([0,1], [0,1], 'k--', label = 'Random: 0.5')\n",
    "plt.xlabel('Score Falsos positivos')\n",
    "plt.ylabel('Score Verdadeiros Positivos')\n",
    "plt.title('Curva ROC')\n",
    "plt.legend(loc='best')\n",
    "plt.show()"
   ]
  },
  {
   "cell_type": "markdown",
   "id": "960c47ff",
   "metadata": {},
   "source": [
    "### 7. CONCLUSÃO"
   ]
  },
  {
   "cell_type": "markdown",
   "id": "a3f26224",
   "metadata": {},
   "source": [
    "Depois de fazermos a análise da aplicação do método Random Forests nos dados de teste, podemos perceber que a precisão obtida foi um pouco menor para os churns (78% de precisão com um recall de 39%). Sendim assim, percebe-se que, por mais que o modelo tenha uma alta precisão, ainda deixa escapar uma boa quantidade de churns. \n",
    "\n",
    "Uma sugestão para corrigirmos essa questão poderia ser o retreinamento do modelo com uma maior quantidade de dados ao longo do tempo. Enquanto isso, poderíamos ir utilizando o modelo gerado, e assim já irmos traçando um plano de retenção para os churns detectados.  "
   ]
  }
 ],
 "metadata": {
  "kernelspec": {
   "display_name": "Python 3 (ipykernel)",
   "language": "python",
   "name": "python3"
  },
  "language_info": {
   "codemirror_mode": {
    "name": "ipython",
    "version": 3
   },
   "file_extension": ".py",
   "mimetype": "text/x-python",
   "name": "python",
   "nbconvert_exporter": "python",
   "pygments_lexer": "ipython3",
   "version": "3.9.7"
  }
 },
 "nbformat": 4,
 "nbformat_minor": 5
}
