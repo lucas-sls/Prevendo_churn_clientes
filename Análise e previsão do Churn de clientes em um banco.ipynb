{
 "cells": [
  {
   "cell_type": "markdown",
   "id": "cd21ce8e",
   "metadata": {},
   "source": [
    "# ANÁLISE E PREVISÃO DO CHURN DE CLIENTES EM UM BANCO"
   ]
  },
  {
   "cell_type": "markdown",
   "id": "f46aaadf",
   "metadata": {},
   "source": [
    "**POR LUCAS FONSECA MÜLLER**"
   ]
  },
  {
   "cell_type": "markdown",
   "id": "94e4969a",
   "metadata": {},
   "source": [
    "### 1. INTRODUÇÃO "
   ]
  },
  {
   "cell_type": "markdown",
   "id": "bb758e92",
   "metadata": {},
   "source": [
    "O presente estudo, inspirado no trabalho de *Keldine Malit*, intitulado *Preventing bank customer churn*, foi desenvolvido para fins didáticos, buscando a assimilação dos conceitos básicos de análise exploratória e machine learning com python. Visando a análise do dataset, que contem um portfólio de clientes de um determinado banco, objetiva-se a busca de um modelo ótimo que indique, antecipadamente, quais clientes possuem mais chances de deixar de consumir os produtos bancários, para assim definir uma melhor estratégia para a retenção dos mesmos.  "
   ]
  },
  {
   "cell_type": "markdown",
   "id": "06550cad",
   "metadata": {},
   "source": [
    "Sendo assim, essa análise contem os seguintes objetivos:\n",
    "\n",
    "<ol>\n",
    "    <li> Identificar e visualizar quais os atributos que mais influenciam na perda de clientes;</li>\n",
    "    <li> Construir um modelo preditivo que fará a análise das variáveis e definirá a probabilidade de um cliente deixar de utilizar os serviços bancários. Esse modelo auxiliará a empresa a focar os seus esforços na retenção dos clientes com maiores chances de perda.\n",
    "</ol>"
   ]
  },
  {
   "cell_type": "markdown",
   "id": "c2f5e977",
   "metadata": {},
   "source": [
    "### 2. SUMARIZAÇÃO E PREPARAÇÃO DO DATASET "
   ]
  },
  {
   "cell_type": "markdown",
   "id": "ceca3557",
   "metadata": {},
   "source": [
    "Nessa etapa, será realizada a exploração do conjunto de dados, visando:\n",
    "    \n",
    "<ol>\n",
    "    <li> A descoberta das dimensões do dataset e os seus respectivos significados;</li>\n",
    "    <li> A preparação destes dados para os processos de exploração e construção dos modelos preditivos, citados na primeira seção do projeto. </li>\n",
    "</ol>"
   ]
  }
 ],
 "metadata": {
  "kernelspec": {
   "display_name": "Python 3 (ipykernel)",
   "language": "python",
   "name": "python3"
  },
  "language_info": {
   "codemirror_mode": {
    "name": "ipython",
    "version": 3
   },
   "file_extension": ".py",
   "mimetype": "text/x-python",
   "name": "python",
   "nbconvert_exporter": "python",
   "pygments_lexer": "ipython3",
   "version": "3.9.7"
  }
 },
 "nbformat": 4,
 "nbformat_minor": 5
}
